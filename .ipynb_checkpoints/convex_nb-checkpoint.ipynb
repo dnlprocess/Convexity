{
 "cells": [
  {
   "cell_type": "code",
   "execution_count": 7,
   "metadata": {
    "scrolled": true
   },
   "outputs": [
    {
     "name": "stdout",
     "output_type": "stream",
     "text": [
      "5\n",
      "6\n",
      "7\n",
      "8\n",
      "9\n",
      "10\n",
      "11\n",
      "12\n",
      "13\n",
      "14\n",
      "15\n",
      "16\n",
      "17\n",
      "18\n",
      "19\n",
      "20\n",
      "21\n",
      "22\n",
      "23\n",
      "24\n",
      "25\n",
      "26\n",
      "27\n",
      "28\n",
      "29\n",
      "30\n",
      "31\n",
      "32\n",
      "33\n",
      "34\n",
      "35\n",
      "36\n",
      "37\n",
      "38\n",
      "39\n",
      "40\n",
      "41\n",
      "42\n",
      "43\n",
      "44\n",
      "45\n",
      "46\n",
      "47\n",
      "48\n",
      "49\n"
     ]
    },
    {
     "ename": "ValueError",
     "evalue": "operands could not be broadcast together with shapes (44,) (45,) ",
     "output_type": "error",
     "traceback": [
      "\u001b[0;31m---------------------------------------------------------------------------\u001b[0m",
      "\u001b[0;31mValueError\u001b[0m                                Traceback (most recent call last)",
      "Cell \u001b[0;32mIn [7], line 82\u001b[0m\n\u001b[1;32m     80\u001b[0m c_points \u001b[38;5;241m=\u001b[39m np\u001b[38;5;241m.\u001b[39marray(c_points)\n\u001b[1;32m     81\u001b[0m s_points \u001b[38;5;241m=\u001b[39m np\u001b[38;5;241m.\u001b[39marray(s_points)\n\u001b[0;32m---> 82\u001b[0m radii \u001b[38;5;241m=\u001b[39m (\u001b[43mnp\u001b[49m\u001b[38;5;241;43m.\u001b[39;49m\u001b[43mabs\u001b[49m\u001b[43m(\u001b[49m\u001b[43ms_points\u001b[49m\u001b[38;5;241;43m.\u001b[39;49m\u001b[43mT\u001b[49m\u001b[43m[\u001b[49m\u001b[38;5;241;43m1\u001b[39;49m\u001b[43m]\u001b[49m\u001b[43m)\u001b[49m\u001b[43m \u001b[49m\u001b[38;5;241;43m-\u001b[39;49m\u001b[43m \u001b[49m\u001b[43mnp\u001b[49m\u001b[38;5;241;43m.\u001b[39;49m\u001b[43mabs\u001b[49m\u001b[43m(\u001b[49m\u001b[43mc_points\u001b[49m\u001b[38;5;241;43m.\u001b[39;49m\u001b[43mT\u001b[49m\u001b[43m[\u001b[49m\u001b[38;5;241;43m1\u001b[39;49m\u001b[43m]\u001b[49m\u001b[43m)\u001b[49m)\u001b[38;5;241m/\u001b[39m\u001b[38;5;241m2\u001b[39m\n\u001b[1;32m     83\u001b[0m centers \u001b[38;5;241m=\u001b[39m np\u001b[38;5;241m.\u001b[39mabs(c_points\u001b[38;5;241m.\u001b[39mT[\u001b[38;5;241m1\u001b[39m])\u001b[38;5;241m+\u001b[39mradii\n",
      "\u001b[0;31mValueError\u001b[0m: operands could not be broadcast together with shapes (44,) (45,) "
     ]
    }
   ],
   "source": [
    "import numpy as np\n",
    "import math\n",
    "import matplotlib.pyplot as plt\n",
    "def is_convex(X):\n",
    "    vector_angles = np.array([compute_theta(X[i], X[(i+1)%len(X)], X[(i+2)%len(X)]) for i in range(len(X))])\n",
    "\n",
    "    regular = np.all(vector_angles == vector_angles[1])\n",
    "\n",
    "    cross_product = np.transpose(vector_angles)[1]\n",
    "    sign = np.all(cross_product > 0) if cross_product[0] > 0 else np.all(cross_product <= 0)\n",
    "        \n",
    "    total_concavity = np.sum(np.transpose(vector_angles)[0])\n",
    "\n",
    "    convex = (total_concavity <= 2*np.pi or math.isclose(total_concavity, 2*np.pi)) and sign\n",
    "\n",
    "    return convex\n",
    "\n",
    "def is_simple(X):\n",
    "    n = len(X)\n",
    "\n",
    "    if n <= 3:\n",
    "            return True\n",
    "        \n",
    "    for i in range(n):\n",
    "        p1, p2 = np.roll(X, -i)[:2]\n",
    "\n",
    "        for j in range(i + 2, n + i - 1):\n",
    "            j %= n\n",
    "            q1, q2 = np.roll(X, -j)[:2]\n",
    "\n",
    "            if intersect(p1, p2, q1, q2):\n",
    "                return False\n",
    "\n",
    "    return len(set(X)) == len(X)\n",
    "\n",
    "def intersect(p1,p2,q1,q2):\n",
    "    return ccw(p1,q1,q2) != ccw(p2,q1,q2) and ccw(p1,p2,q1) != ccw(p1,p2,q2)\n",
    "\n",
    "def ccw(A,B,C):\n",
    "    return (np.imag(C)-np.imag(A)) * (np.real(B)-np.real(A)) > (np.imag(B)-np.imag(A)) * (np.real(C)-np.real(A))\n",
    "\n",
    "\n",
    "def compute_theta(X1, X2, X3):\n",
    "    d1 = X2 - X1\n",
    "    d2 = X3 - X2\n",
    "    v1 = np.array([np.real(d1), np.imag(d1)])\n",
    "    v2 = np.array([np.real(d2), np.imag(d2)])\n",
    "\n",
    "    if np.array_equal(v1, v2):\n",
    "        return 0,0\n",
    "\n",
    "    norm_v1 = np.linalg.norm(v1)\n",
    "    norm_v2 = np.linalg.norm(v2)\n",
    "\n",
    "    cross_product = np.cross(v1, v2)\n",
    "\n",
    "    #theta = np.arcsin(cross_product / (norm_v1 * norm_v2))\n",
    "    theta = np.arccos(np.dot(v1,v2)/(norm_v1 * norm_v2))\n",
    "    return theta, cross_product\n",
    "\n",
    "c_points = []\n",
    "s_points = []\n",
    "for i in range(5, 150):\n",
    "    convex = True\n",
    "    simple = True\n",
    "    print(i)\n",
    "    X = np.zeros(i, dtype='complex')\n",
    "    X[1] = 2 + 1j\n",
    "    for x in np.linspace(-0.1, -2, 1000):\n",
    "        X[2] = x\n",
    "        Z = np.fft.fft(X, norm='ortho')\n",
    "        if is_convex(Z) != convex:\n",
    "            c_points.append([i, x])\n",
    "            convex = False\n",
    "        if is_simple(Z) != simple:\n",
    "            s_points.append([i, x])\n",
    "            break\n",
    "            \n",
    "\n",
    "c_points = np.array(c_points)\n",
    "s_points = np.array(s_points)\n",
    "radii = (np.abs(s_points.T[1]) - np.abs(c_points.T[1]))/2\n",
    "centers = np.abs(c_points.T[1])+radii"
   ]
  },
  {
   "cell_type": "code",
   "execution_count": 3,
   "metadata": {},
   "outputs": [
    {
     "data": {
      "text/plain": [
       "array([0.61811812, 0.33378378, 0.24724725, 0.20730731, 0.18448448,\n",
       "       0.17117117, 0.16071071, 0.15405405, 0.15025025, 0.14644645,\n",
       "       0.14359359, 0.13978979, 0.13883884, 0.13788789, 0.13598599,\n",
       "       0.13408408, 0.13408408, 0.13313313, 0.13218218, 0.13123123,\n",
       "       0.13123123, 0.13123123, 0.13028028, 0.13028028, 0.12932933,\n",
       "       0.12932933, 0.12837838, 0.12837838, 0.12837838, 0.12837838,\n",
       "       0.12837838, 0.12837838, 0.12837838, 0.12742743, 0.12742743,\n",
       "       0.12742743, 0.12742743, 0.12742743, 0.12742743, 0.12742743,\n",
       "       0.12647648, 0.12647648, 0.12647648, 0.12647648, 0.12647648])"
      ]
     },
     "execution_count": 3,
     "metadata": {},
     "output_type": "execute_result"
    }
   ],
   "source": [
    "radii"
   ]
  },
  {
   "cell_type": "code",
   "execution_count": 4,
   "metadata": {},
   "outputs": [
    {
     "name": "stdout",
     "output_type": "stream",
     "text": [
      "5\n",
      "6\n",
      "7\n",
      "8\n",
      "9\n",
      "10\n",
      "11\n",
      "12\n",
      "13\n",
      "14\n",
      "15\n",
      "16\n",
      "17\n",
      "18\n",
      "19\n",
      "20\n",
      "21\n",
      "22\n",
      "23\n",
      "24\n",
      "25\n",
      "26\n",
      "27\n",
      "28\n",
      "29\n",
      "30\n",
      "31\n",
      "32\n",
      "33\n",
      "34\n",
      "35\n",
      "36\n",
      "37\n",
      "38\n",
      "39\n",
      "40\n",
      "41\n",
      "42\n",
      "43\n",
      "44\n",
      "45\n",
      "46\n",
      "47\n",
      "48\n",
      "49\n"
     ]
    }
   ],
   "source": [
    "c_points3 = []\n",
    "s_points3 = []\n",
    "for i in range(5, 50):\n",
    "    convex = True\n",
    "    simple = True\n",
    "    print(i)\n",
    "    X = np.zeros(i, dtype='complex')\n",
    "    X[1] = 1\n",
    "    for x in np.linspace(-0.1, -2, 1000):\n",
    "        X[3] = x\n",
    "        Z = np.fft.fft(X, norm='ortho')\n",
    "        if is_convex(Z) != convex:\n",
    "            c_points3.append([i, x])\n",
    "            convex = False\n",
    "        if is_simple(Z) != simple:\n",
    "            s_points3.append([i, x])\n",
    "            break\n",
    "            \n",
    "\n",
    "c_points3 = np.array(c_points3)\n",
    "s_points3 = np.array(s_points3)\n",
    "radii3 = (np.abs(s_points3.T[1]) - np.abs(c_points3.T[1]))/2\n",
    "centers3 = np.abs(c_points3.T[1])+radii3"
   ]
  },
  {
   "cell_type": "code",
   "execution_count": 6,
   "metadata": {},
   "outputs": [
    {
     "data": {
      "text/plain": [
       "array([0.5013013 , 0.62587588, 0.32252252, 0.58688689, 0.27687688,\n",
       "       0.38338338, 0.25690691, 0.31776777, 0.24644645, 0.28733734,\n",
       "       0.24074074, 0.27022022, 0.23598599, 0.25880881, 0.23408408,\n",
       "       0.2512012 , 0.23218218, 0.24644645, 0.23028028, 0.24169169,\n",
       "       0.22932933, 0.23978979, 0.22742743, 0.23693694, 0.22742743,\n",
       "       0.23503504, 0.22742743, 0.23408408, 0.22647648, 0.23218218,\n",
       "       0.22647648, 0.23218218, 0.22552553, 0.23028028, 0.22552553,\n",
       "       0.22932933, 0.22552553, 0.22932933, 0.22457457, 0.22837838,\n",
       "       0.22457457, 0.22837838, 0.22457457, 0.22742743, 0.22457457])"
      ]
     },
     "execution_count": 6,
     "metadata": {},
     "output_type": "execute_result"
    }
   ],
   "source": [
    "centers3"
   ]
  },
  {
   "cell_type": "code",
   "execution_count": 5,
   "metadata": {},
   "outputs": [
    {
     "data": {
      "text/plain": [
       "array([0.11791792, 0.37562563, 0.12362362, 0.41461461, 0.11981982,\n",
       "       0.23583584, 0.11696697, 0.18353353, 0.11601602, 0.15880881,\n",
       "       0.11411411, 0.1454955 , 0.11316316, 0.13788789, 0.11316316,\n",
       "       0.13218218, 0.11316316, 0.12742743, 0.11316316, 0.12457457,\n",
       "       0.11221221, 0.12267267, 0.11221221, 0.12172172, 0.11221221,\n",
       "       0.11981982, 0.11221221, 0.11886887, 0.11126126, 0.11696697,\n",
       "       0.11126126, 0.11696697, 0.11221221, 0.11696697, 0.11221221,\n",
       "       0.11601602, 0.11221221, 0.11601602, 0.11126126, 0.11506507,\n",
       "       0.11126126, 0.11506507, 0.11126126, 0.11411411, 0.11126126])"
      ]
     },
     "execution_count": 5,
     "metadata": {},
     "output_type": "execute_result"
    }
   ],
   "source": [
    "radii3"
   ]
  },
  {
   "cell_type": "code",
   "execution_count": 1,
   "metadata": {},
   "outputs": [
    {
     "ename": "NameError",
     "evalue": "name 'centers' is not defined",
     "output_type": "error",
     "traceback": [
      "\u001b[0;31m---------------------------------------------------------------------------\u001b[0m",
      "\u001b[0;31mNameError\u001b[0m                                 Traceback (most recent call last)",
      "Cell \u001b[0;32mIn [1], line 1\u001b[0m\n\u001b[0;32m----> 1\u001b[0m \u001b[43mcenters\u001b[49m\n",
      "\u001b[0;31mNameError\u001b[0m: name 'centers' is not defined"
     ]
    }
   ],
   "source": [
    "centers"
   ]
  },
  {
   "cell_type": "code",
   "execution_count": null,
   "metadata": {},
   "outputs": [],
   "source": []
  }
 ],
 "metadata": {
  "kernelspec": {
   "display_name": "Python 3 (ipykernel)",
   "language": "python",
   "name": "python3"
  },
  "language_info": {
   "codemirror_mode": {
    "name": "ipython",
    "version": 3
   },
   "file_extension": ".py",
   "mimetype": "text/x-python",
   "name": "python",
   "nbconvert_exporter": "python",
   "pygments_lexer": "ipython3",
   "version": "3.11.0"
  }
 },
 "nbformat": 4,
 "nbformat_minor": 2
}
