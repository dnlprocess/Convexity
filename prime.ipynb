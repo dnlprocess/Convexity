{
 "cells": [
  {
   "cell_type": "code",
   "execution_count": 8,
   "metadata": {},
   "outputs": [],
   "source": [
    "import numpy as np\n",
    "def quasi_primeness_matrix(n):\n",
    "    m_values = np.arange(1, n)\n",
    "    k_values = np.arange(1, n)\n",
    "\n",
    "    M = np.mod(np.outer(m_values, k_values), n)\n",
    "\n",
    "    v = np.sum(M, axis=0)\n",
    "    return M.T\n",
    "\n",
    "def quasi_prime_sum(n):\n",
    "    m_values = np.arange(1, n)\n",
    "    k_values = np.arange(1, n)\n",
    "\n",
    "    M = np.mod(np.outer(m_values, k_values), n)\n",
    "\n",
    "    v = np.sum(M, axis=0)\n",
    "    return v"
   ]
  },
  {
   "cell_type": "code",
   "execution_count": 14,
   "metadata": {},
   "outputs": [
    {
     "data": {
      "text/plain": [
       "array([[  1,   2,   3, ..., 526, 527, 528],\n",
       "       [  2,   4,   6, ..., 523, 525, 527],\n",
       "       [  3,   6,   9, ..., 520, 523, 526],\n",
       "       ...,\n",
       "       [526, 523, 520, ...,   9,   6,   3],\n",
       "       [527, 525, 523, ...,   6,   4,   2],\n",
       "       [528, 527, 526, ...,   3,   2,   1]])"
      ]
     },
     "execution_count": 14,
     "metadata": {},
     "output_type": "execute_result"
    }
   ],
   "source": [
    "quasi_primeness_matrix(23*23)"
   ]
  },
  {
   "cell_type": "code",
   "execution_count": null,
   "metadata": {},
   "outputs": [],
   "source": [
    "def is_prime(n):\n",
    "    return (np.)"
   ]
  }
 ],
 "metadata": {
  "kernelspec": {
   "display_name": "Python 3",
   "language": "python",
   "name": "python3"
  },
  "language_info": {
   "codemirror_mode": {
    "name": "ipython",
    "version": 3
   },
   "file_extension": ".py",
   "mimetype": "text/x-python",
   "name": "python",
   "nbconvert_exporter": "python",
   "pygments_lexer": "ipython3",
   "version": "3.9.16"
  },
  "orig_nbformat": 4
 },
 "nbformat": 4,
 "nbformat_minor": 2
}
